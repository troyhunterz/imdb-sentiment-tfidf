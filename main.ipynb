{
 "cells": [
  {
   "cell_type": "markdown",
   "id": "3aeb91a5",
   "metadata": {},
   "source": [
    "# Sentiment Analysis on IMDB Movie Reviews with TF-IDF Text Embedding"
   ]
  },
  {
   "cell_type": "markdown",
   "id": "f6004fa0",
   "metadata": {},
   "source": [
    "## Loading Libraries"
   ]
  },
  {
   "cell_type": "code",
   "execution_count": null,
   "id": "2e0af501",
   "metadata": {},
   "outputs": [],
   "source": [
    "!pip install git+https://github.com/troyhunterz/preprocess_tr.git"
   ]
  },
  {
   "cell_type": "code",
   "execution_count": null,
   "id": "5f60685d",
   "metadata": {},
   "outputs": [],
   "source": [
    "import pandas as pd\n",
    "import numpy as np\n",
    "\n",
    "# scikit-learn\n",
    "from sklearn.pipeline import Pipeline\n",
    "from sklearn.linear_model import LogisticRegression\n",
    "from sklearn.svm import LinearSVC\n",
    "from sklearn.model_selection import train_test_split\n",
    "from sklearn.model_selection import GridSearchCV\n",
    "from sklearn.feature_extraction.text import TfidfVectorizer\n",
    "from sklearn.metrics import accuracy_score, classification_report, confusion_matrix\n",
    "\n",
    "# custom library\n",
    "import preprocess_tr as ps\n",
    "\n",
    "# pickle\n",
    "import pickle as pkl\n",
    "\n",
    "# warnings\n",
    "import warnings\n",
    "warnings.filterwarnings('ignore')"
   ]
  },
  {
   "cell_type": "markdown",
   "id": "5ea2f2c0",
   "metadata": {},
   "source": [
    "## Loading Data"
   ]
  },
  {
   "cell_type": "code",
   "execution_count": null,
   "id": "cac68913",
   "metadata": {},
   "outputs": [],
   "source": [
    "df = pd.read_csv('dataset/imdb_reviews.txt', sep='\\t', header=None)"
   ]
  },
  {
   "cell_type": "markdown",
   "id": "7f0fc7d5",
   "metadata": {},
   "source": [
    "## Text Preprocessing"
   ]
  },
  {
   "cell_type": "code",
   "execution_count": null,
   "id": "94220eaf",
   "metadata": {},
   "outputs": [],
   "source": [
    "df.columns = ['reviews', 'sentiment']\n",
    "df.head()"
   ]
  },
  {
   "cell_type": "code",
   "execution_count": null,
   "id": "30628061",
   "metadata": {},
   "outputs": [],
   "source": [
    "df['reviews'] = df['reviews'].apply(lambda x: ps.contraction_to_expansion(x))\n",
    "df['reviews'] = df['reviews'].apply(lambda x: ps.rm_accented_chars(x))\n",
    "df['reviews'] = df['reviews'].apply(lambda x: ps.rm_html(x))\n",
    "df['reviews'] = df['reviews'].apply(lambda x: ps.remove_emails(x))\n",
    "df['reviews'] = df['reviews'].apply(lambda x: ps.remove_urls(x))\n",
    "df['reviews'] = df['reviews'].apply(lambda x: ps.rm_special_chars(x))\n",
    "df['reviews'] = df['reviews'].apply(lambda x: ps.lemmatize(x))\n",
    "df['reviews'] = df['reviews'].apply(lambda x: str(x).lower())"
   ]
  },
  {
   "cell_type": "code",
   "execution_count": null,
   "id": "93f758a6",
   "metadata": {},
   "outputs": [],
   "source": [
    "df.head(3)"
   ]
  },
  {
   "cell_type": "markdown",
   "id": "cf916feb",
   "metadata": {},
   "source": [
    "## Data Preparation for Model Training"
   ]
  },
  {
   "cell_type": "code",
   "execution_count": null,
   "id": "bba5d425",
   "metadata": {},
   "outputs": [],
   "source": [
    "X = df['reviews']\n",
    "y = df['sentiment']\n",
    "X_train, X_test, y_train, y_test = train_test_split(X, y, test_size=0.2, random_state=0, stratify=y)\n",
    "\n",
    "X_train.shape, X_test.shape"
   ]
  },
  {
   "cell_type": "markdown",
   "id": "f2ba1ff2",
   "metadata": {},
   "source": [
    "## ML Model Building"
   ]
  },
  {
   "cell_type": "code",
   "execution_count": null,
   "id": "c6fa5535",
   "metadata": {},
   "outputs": [],
   "source": [
    "pipe = Pipeline([\n",
    "    ('tfidf', TfidfVectorizer(),\n",
    "     'clf', LogisticRegression(solver='liblinear'))\n",
    "])"
   ]
  },
  {
   "cell_type": "code",
   "execution_count": null,
   "id": "f73fd354",
   "metadata": {},
   "outputs": [],
   "source": [
    "hyperparameters = {\n",
    "    'tfidf__max_df': (.5, 1.),\n",
    "    'tfidf__ngram_range': ((1,1),(1,2)),\n",
    "    'tfidf__use_idf': (True, False),\n",
    "    'tfifd__analyzer': ('word', 'char', 'char_wb'),\n",
    "\n",
    "    'clf__penalty': ('l2', 'l1'),\n",
    "    'clf__C': (1,2)\n",
    "}"
   ]
  },
  {
   "cell_type": "code",
   "execution_count": null,
   "id": "9274865c",
   "metadata": {},
   "outputs": [],
   "source": [
    "clf = GridSearchCV(pipe, hyperparameters, n_jobs=-1, cv=None)"
   ]
  },
  {
   "cell_type": "code",
   "execution_count": null,
   "id": "b62e1d4f",
   "metadata": {},
   "outputs": [],
   "source": [
    "%%time\n",
    "clf.fit(X_train, X_test)"
   ]
  },
  {
   "cell_type": "code",
   "execution_count": null,
   "id": "6b991fcd",
   "metadata": {},
   "outputs": [],
   "source": [
    "print(f'{clf.best_score_}\\n\\n{clf.best_estimator_}')"
   ]
  },
  {
   "cell_type": "code",
   "execution_count": null,
   "id": "f572f4a4",
   "metadata": {},
   "outputs": [],
   "source": [
    "y_pred = clf.predict(X_test)\n",
    "print(classification_report(y_test, y_pred))"
   ]
  },
  {
   "cell_type": "markdown",
   "id": "5c6a3372",
   "metadata": {},
   "source": [
    "## SVM Model"
   ]
  },
  {
   "cell_type": "code",
   "execution_count": null,
   "id": "83a94ff2",
   "metadata": {},
   "outputs": [],
   "source": [
    "pipe = Pipeline([\n",
    "    ('tfidf', TfidfVectorizer(),\n",
    "     'clf', LinearSVC())\n",
    "])"
   ]
  },
  {
   "cell_type": "code",
   "execution_count": null,
   "id": "b8dc55a5",
   "metadata": {},
   "outputs": [],
   "source": [
    "hyperparameters = {\n",
    "    'tfidf__max_df': (.5, 1.),\n",
    "    'tfidf__ngram_range': ((1,1), (1,2)),\n",
    "    'tfidf__use_idf': (True, False),\n",
    "    'tfidf__analyzer': ('word', 'chars', 'char_wb'),\n",
    "\n",
    "    'clf__C': (1,2, 2.5,3)\n",
    "}"
   ]
  },
  {
   "cell_type": "code",
   "execution_count": null,
   "id": "65ad09fd",
   "metadata": {},
   "outputs": [],
   "source": [
    "clf = GridSearchCV(pipe, hyperparameters, n_jobs=-1, cv=None)"
   ]
  },
  {
   "cell_type": "code",
   "execution_count": null,
   "id": "684fc534",
   "metadata": {},
   "outputs": [],
   "source": [
    "%%time\n",
    "clf.fit(X_train, y_train)"
   ]
  },
  {
   "cell_type": "code",
   "execution_count": null,
   "id": "1db1baeb",
   "metadata": {},
   "outputs": [],
   "source": [
    "clf.best_estimator_, clf.best_params_"
   ]
  },
  {
   "cell_type": "code",
   "execution_count": null,
   "id": "eee4cabf",
   "metadata": {},
   "outputs": [],
   "source": [
    "clf.best_score_"
   ]
  },
  {
   "cell_type": "code",
   "execution_count": null,
   "id": "fa76cfa7",
   "metadata": {},
   "outputs": [],
   "source": [
    "y_pred = clf.predict(X_test)\n",
    "print(classification_report(y_test, y_pred))"
   ]
  },
  {
   "cell_type": "markdown",
   "id": "05b50d72",
   "metadata": {},
   "source": [
    "## Model Testing and Saving"
   ]
  },
  {
   "cell_type": "code",
   "execution_count": null,
   "id": "97035046",
   "metadata": {},
   "outputs": [],
   "source": [
    "x = ['This is a great movie. I loved it', 'i have watched this movie. plot is straight. return my money']\n",
    "clf.predict(x)"
   ]
  },
  {
   "cell_type": "code",
   "execution_count": null,
   "id": "00207727",
   "metadata": {},
   "outputs": [],
   "source": [
    "pkl.dump(clf, open('model/model.pkl', 'wb'))"
   ]
  }
 ],
 "metadata": {
  "kernelspec": {
   "display_name": "base",
   "language": "python",
   "name": "python3"
  },
  "language_info": {
   "name": "python",
   "version": "3.12.4"
  }
 },
 "nbformat": 4,
 "nbformat_minor": 5
}
